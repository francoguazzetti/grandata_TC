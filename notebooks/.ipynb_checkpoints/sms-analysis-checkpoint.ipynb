{
 "cells": [
  {
   "cell_type": "code",
   "execution_count": 1,
   "id": "badcbf60-2086-437e-9add-9c87ebd5e9c1",
   "metadata": {
    "tags": []
   },
   "outputs": [],
   "source": [
    "from pyspark.sql import SparkSession\n",
    "from pyspark.sql.functions import col, when, desc, asc, sum as _sum, md5, col\n",
    "\n",
    "# Builder\n",
    "spark = SparkSession.builder \\\n",
    "    .appName(\"SMS Analysis\") \\\n",
    "    .master(\"local[*]\") \\\n",
    "    .config(\"spark.sql.shuffle.partitions\", \"4\") \\\n",
    "    .getOrCreate()\n"
   ]
  },
  {
   "cell_type": "code",
   "execution_count": 2,
   "id": "7c7a488b-b601-4c2b-a236-83522a72aaa3",
   "metadata": {
    "tags": []
   },
   "outputs": [],
   "source": [
    "# Path del dataset\n",
    "eventos_path = \"../data/events.csv.gz\"\n",
    "free_sms_path = \"../data/free_sms_destinations.csv.gz\"\n",
    "\n",
    "# CSV de eventos\n",
    "eventos_df = spark.read \\\n",
    "    .option(\"header\", True) \\\n",
    "    .option(\"inferSchema\", True) \\\n",
    "    .csv(eventos_path)\n",
    "\n",
    "# CSV de destinos gratuitos\n",
    "free_sms_df = spark.read \\\n",
    "    .option(\"header\", True) \\\n",
    "    .option(\"inferSchema\", True) \\\n",
    "    .csv(free_sms_path)"
   ]
  },
  {
   "cell_type": "code",
   "execution_count": 3,
   "id": "2b81abf1-f1a2-432e-949f-0123de864217",
   "metadata": {
    "tags": []
   },
   "outputs": [],
   "source": [
    "# TempViews to Query\n",
    "eventos_df.createOrReplaceTempView('eventos_df')\n",
    "free_sms_df.createOrReplaceTempView('free_sms_df')\n"
   ]
  },
  {
   "cell_type": "code",
   "execution_count": 4,
   "id": "b975fc32-6e8e-4867-9f9c-b51500ac015e",
   "metadata": {
    "tags": []
   },
   "outputs": [],
   "source": [
    "# Esta es la versión con PySpark"
   ]
  },
  {
   "cell_type": "code",
   "execution_count": 5,
   "id": "b229a1b5-3841-41c9-bfc7-227d79f96021",
   "metadata": {
    "tags": []
   },
   "outputs": [
    {
     "name": "stdout",
     "output_type": "stream",
     "text": [
      "+------+------------------+----------------+\n",
      "|region|total_sms_enviados|total_sms_income|\n",
      "+------+------------------+----------------+\n",
      "|     1|             13073|         19609.5|\n",
      "|     2|              9829|         14743.5|\n",
      "|     3|             16849|         25273.5|\n",
      "|     4|             26226|         39339.0|\n",
      "|     5|             32981|         49471.5|\n",
      "|     6|             25389|         50778.0|\n",
      "|     7|             39299|         78598.0|\n",
      "|     8|             15216|         30432.0|\n",
      "|     9|             41561|         83122.0|\n",
      "+------+------------------+----------------+\n",
      "\n",
      "Total facturado: $391367.0\n"
     ]
    }
   ],
   "source": [
    "# Registros válidos y con SMS\n",
    "eventos_sms = eventos_df.filter(\n",
    "    (col(\"id_source\").isNotNull()) &\n",
    "    (col(\"id_destination\").isNotNull()) &\n",
    "    (col(\"sms\") > 0)\n",
    ")\n",
    "\n",
    "# Join de registros con id para SMS gratuitos\n",
    "eventos_sms_gratis = eventos_sms.join(\n",
    "    free_sms_df.withColumnRenamed(\"id\", \"free_sms_id\"), # Renombre para evitar confusión\n",
    "    eventos_sms[\"id_destination\"] == col(\"free_sms_id\"),\n",
    "    how=\"left\"\n",
    ")\n",
    "\n",
    "# Precios -- step 1/2\n",
    "eventos_tarifados = eventos_sms_gratis.withColumn(\n",
    "    \"price\",\n",
    "    when(col(\"free_sms_id\").isNotNull(), 0.0) # No contabiliza los sms free\n",
    "    .when(col(\"region\").cast(\"int\").between(1, 5), 1.5)\n",
    "    .when(col(\"region\").cast(\"int\").between(6, 9), 2.0)\n",
    "    .otherwise(0.0)\n",
    ")\n",
    "\n",
    "# Facturación total -- step 2/2\n",
    "eventos_tarifados = eventos_tarifados.filter(col(\"free_sms_id\").isNull()).withColumn(\n",
    "    \"sms_income\", col(\"sms\") * col(\"price\")\n",
    ")\n",
    "\n",
    "# Agrupación de sms_income\n",
    "total_facturado = eventos_tarifados.groupBy(\"region\").agg(\n",
    "    _sum(\"sms\").alias(\"total_sms_enviados\"),\n",
    "    _sum(\"sms_income\").alias(\"total_sms_income\")\n",
    ")\n",
    "\n",
    "total_facturado.sort(asc(\"region\")).show()\n",
    "\n",
    "total_sms_income = total_facturado.agg(\n",
    "    _sum(\"total_sms_income\").alias(\"total\")\n",
    ").collect()[0][\"total\"]\n",
    "\n",
    "print(f\"Total facturado: ${total_sms_income}\")\n"
   ]
  },
  {
   "cell_type": "markdown",
   "id": "be1d416b-f54b-45fc-a988-06c45090090a",
   "metadata": {
    "tags": []
   },
   "source": [
    "### Ejercicio 2\n",
    "\n",
    "##### Generar un dataset que contenga los ID de los 100 usuarios con mayor facturación por envío de SMS y el monto total a facturar a cada uno.\n",
    "##### Además del ID, incluir el ID hasheado mediante el algoritmo MD5.\n",
    "##### Escribir el dataset en formato parquet con compresión gzip."
   ]
  },
  {
   "cell_type": "code",
   "execution_count": 6,
   "id": "15f8ebc7-2579-4ec6-abcc-276e138fbcd1",
   "metadata": {
    "tags": []
   },
   "outputs": [
    {
     "name": "stdout",
     "output_type": "stream",
     "text": [
      "+---------+------------------+----------------+--------------------------------+\n",
      "|id_source|total_sms_enviados|total_sms_income|id_source_md5                   |\n",
      "+---------+------------------+----------------+--------------------------------+\n",
      "|4D3      |12940             |23403.0         |911914c7729eedbdf5b0f03159f451a9|\n",
      "|76D      |7347              |13664.0         |bd180b7811395cbce5076b52a78ca50d|\n",
      "|07E      |2357              |4226.0          |14a0660ae2f5d186882df86c2972fa93|\n",
      "|541      |1380              |2526.0          |16c222aa19898e5058938167c8ab6c57|\n",
      "|C25      |1344              |2019.0          |0bfa0b57d99985aa138ce05055a3c5db|\n",
      "|17D      |633               |1209.0          |7521526054bb89ba243073f7e5e541ec|\n",
      "|3AE      |589               |1087.5          |6a57072949dbc409cc48ef7bd8b05335|\n",
      "|B86      |649               |1054.5          |bc97b32ee2abb9c18aad55b9da9f51c0|\n",
      "|E89      |607               |979.5           |5135cc35322269f2fb397b4f81426938|\n",
      "|B71      |488               |972.0           |1088a10d026eae0ac20f59f5249db2ea|\n",
      "|162      |583               |887.5           |82aa4b0af34c2313a562076992e50aa3|\n",
      "|068      |428               |854.5           |fb8490a9504a36c212b5a1be7b4ca7e4|\n",
      "|A2C      |346               |691.5           |d7dcc6703e425a6e39d6ebaf31cba1bd|\n",
      "|335      |342               |681.0           |f9b902fc3289af4dd08de5d1de54f68f|\n",
      "|1BD      |443               |679.0           |f5a45e33602ea62f9498f9d9bb86fc3e|\n",
      "|3E0      |339               |661.5           |e9d076deb3451cc49819dbc8ed8be7a7|\n",
      "|76F      |324               |644.0           |1b9204fd05eed7af9ec2ffb0891d84ab|\n",
      "|6FB      |387               |598.5           |dbcec12ccfc780516eaf452d1d81dd07|\n",
      "|5D7      |299               |596.5           |d688a78f3638bed0c340ea5ccb972dae|\n",
      "|84C      |300               |591.5           |f33e3ebc2d9aab9c9a14f2368bec2234|\n",
      "+---------+------------------+----------------+--------------------------------+\n",
      "only showing top 20 rows\n",
      "\n"
     ]
    }
   ],
   "source": [
    "facturacion_ids = eventos_tarifados.groupBy(\"id_source\").agg(\n",
    "    _sum(\"sms\").alias(\"total_sms_enviados\"),\n",
    "    _sum(\"sms_income\").alias(\"total_sms_income\")\n",
    ")\n",
    "\n",
    "top_100_ids_billing = facturacion_ids.sort(desc(\"total_sms_income\")).limit(100)\n",
    "\n",
    "top_100_ids_hashed = top_100_ids_billing.withColumn(\"id_source_md5\", md5(col(\"id_source\")))\n",
    "\n",
    "top_100_ids_hashed.show(truncate = False)\n",
    "\n",
    "top_100_ids_hashed\\\n",
    "    .write\\\n",
    "    .mode(\"overwrite\")\\\n",
    "    .option(\"compression\", \"gzip\")\\\n",
    "    .parquet(\"/home/jovyan/output/top_100_ids.parquet\")"
   ]
  },
  {
   "cell_type": "code",
   "execution_count": 7,
   "id": "79ac57d3-a743-47da-b981-03812af80c46",
   "metadata": {
    "tags": []
   },
   "outputs": [],
   "source": [
    "## Ejercicio 3"
   ]
  },
  {
   "cell_type": "code",
   "execution_count": 8,
   "id": "1c3fa8ca-ad9b-4750-9202-397688149587",
   "metadata": {
    "tags": []
   },
   "outputs": [],
   "source": [
    "import matplotlib.pyplot as plt\n",
    "import pandas as pd"
   ]
  },
  {
   "cell_type": "code",
   "execution_count": 9,
   "id": "c54f72b2-a751-4281-bc7f-582d1a60e7b7",
   "metadata": {
    "tags": []
   },
   "outputs": [],
   "source": [
    "# Agrupamos por hora y sumamos llamadas\n",
    "calls_hora = eventos_df.groupBy(\"hour\").agg(\n",
    "    _sum(\"calls\").alias(\"total_calls\")\n",
    ").orderBy(\"hour\")"
   ]
  },
  {
   "cell_type": "code",
   "execution_count": 10,
   "id": "006675ef-992d-491e-b754-13c794491ba4",
   "metadata": {
    "tags": []
   },
   "outputs": [],
   "source": [
    "# TempView to Pandas\n",
    "calls_pd = calls_hora.toPandas()"
   ]
  },
  {
   "cell_type": "code",
   "execution_count": 11,
   "id": "b0436f52-6f07-403a-b778-cc6851d4a5e7",
   "metadata": {
    "tags": []
   },
   "outputs": [
    {
     "data": {
      "image/png": "[encoded data removed]",
      "text/plain": [
       "<Figure size 720x360 with 1 Axes>"
      ]
     },
     "metadata": {
      "needs_background": "light"
     },
     "output_type": "display_data"
    }
   ],
   "source": [
    "# Plot settings\n",
    "plt.figure(figsize=(10, 5))\n",
    "plt.bar(calls_pd[\"hour\"], calls_pd[\"total_calls\"], width=0.75) # Ejes y barras\n",
    "plt.xlabel(\"Hora\")\n",
    "plt.ylabel(\"Llamadas\")\n",
    "plt.title(\"Histograma de llamadas por hora\")\n",
    "plt.xticks(range(0, 24)) # Horas del día\n",
    "plt.grid(axis='y', linestyle='-', alpha=0.225)\n",
    "# PNG\n",
    "plt.savefig(\"histograma_llamadas.png\")\n",
    "plt.show()"
   ]
  },
  {
   "cell_type": "code",
   "execution_count": null,
   "id": "16635b44-81d3-43fd-9004-fe56eea2ea30",
   "metadata": {},
   "outputs": [],
   "source": []
  }
 ],
 "metadata": {
  "kernelspec": {
   "display_name": "Python 3",
   "language": "python",
   "name": "python3"
  },
  "language_info": {
   "codemirror_mode": {
    "name": "ipython",
    "version": 3
   },
   "file_extension": ".py",
   "mimetype": "text/x-python",
   "name": "python",
   "nbconvert_exporter": "python",
   "pygments_lexer": "ipython3",
   "version": "3.6.9"
  }
 },
 "nbformat": 4,
 "nbformat_minor": 5
}
